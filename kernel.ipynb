{
  "cells": [
    {
      "metadata": {
        "_uuid": "8f2839f25d086af736a60e9eeb907d3b93b6e0e5",
        "_cell_guid": "b1076dfc-b9ad-4769-8c92-a6c4dae69d19",
        "trusted": true
      },
      "cell_type": "code",
      "source": "import numpy as np \nimport pandas as pd \nimport bz2\nimport gc\nimport chardet\nimport re\nimport os\nprint(os.listdir(\"../input\"))",
      "execution_count": null,
      "outputs": []
    },
    {
      "metadata": {
        "_cell_guid": "79c7e3d0-c299-4dcb-8224-4455121ee9b0",
        "_uuid": "d629ff2d2480ee46fbb7e2d37f6b5fab8052498a",
        "trusted": true
      },
      "cell_type": "code",
      "source": "from keras.models import Model\nfrom keras.layers import Dense, Input, Conv1D, GlobalMaxPool1D, Dropout, Concatenate, Layer, InputSpec, CuDNNLSTM, Embedding\nfrom keras.preprocessing import text, sequence\nfrom keras.callbacks import EarlyStopping, ModelCheckpoint\nfrom keras import backend as K\nfrom keras.utils.conv_utils import conv_output_length\nfrom keras.regularizers import l2\nfrom keras.constraints import maxnorm",
      "execution_count": null,
      "outputs": []
    },
    {
      "metadata": {
        "trusted": true,
        "_uuid": "8c46a1cb00fd6c52cabcc1e4a531bf7519f04d6e"
      },
      "cell_type": "code",
      "source": "train_file = bz2.BZ2File('../input/train.ft.txt.bz2')\ntest_file = bz2.BZ2File('../input/test.ft.txt.bz2')",
      "execution_count": null,
      "outputs": []
    },
    {
      "metadata": {
        "trusted": true,
        "_uuid": "738bd8714b066fd5eee07dd0c872f2449a50362f"
      },
      "cell_type": "code",
      "source": "train_file_lines = train_file.readlines()\ntest_file_lines = test_file.readlines()\ndel train_file, test_file",
      "execution_count": null,
      "outputs": []
    },
    {
      "metadata": {
        "trusted": true,
        "_uuid": "a92fc4840e5f24c8e984eabc9c46fad61385ba2b"
      },
      "cell_type": "code",
      "source": "train_file_lines[0]",
      "execution_count": null,
      "outputs": []
    },
    {
      "metadata": {
        "trusted": true,
        "_uuid": "42c0547b16539180b67e0ef06d21c800d6b1536e"
      },
      "cell_type": "code",
      "source": "train_file_lines = [x.decode('utf-8') for x in train_file_lines]\ntest_file_lines = [x.decode('utf-8') for x in test_file_lines]",
      "execution_count": null,
      "outputs": []
    },
    {
      "metadata": {
        "trusted": true,
        "_uuid": "295bb53aba7ea528fc07160d0c166d7c3050d1d0"
      },
      "cell_type": "code",
      "source": "train_labels = [0 if x.split(' ')[0] == '__label__1' else 1 for x in train_file_lines]\ntrain_sentences = [x.split(' ', 1)[1][:-1].lower() for x in train_file_lines]",
      "execution_count": null,
      "outputs": []
    },
    {
      "metadata": {
        "trusted": true,
        "_uuid": "139188978f5c6d0c26ba4287a6bd4bada728001d"
      },
      "cell_type": "code",
      "source": "for i in range(len(train_sentences)):\n    train_sentences[i] = re.sub('\\d','0',train_sentences[i])",
      "execution_count": null,
      "outputs": []
    },
    {
      "metadata": {
        "trusted": true,
        "_uuid": "a0e2471468db367f0de3d601aa23431d2425cf4c"
      },
      "cell_type": "code",
      "source": "test_labels = [0 if x.split(' ')[0] == '__label__1' else 1 for x in test_file_lines]\ntest_sentences = [x.split(' ', 1)[1][:-1].lower() for x in test_file_lines]\n\nfor i in range(len(test_sentences)):\n    test_sentences[i] = re.sub('\\d','0',test_sentences[i])",
      "execution_count": null,
      "outputs": []
    },
    {
      "metadata": {
        "trusted": true,
        "_uuid": "b1485bade3659a4aef4494934a744ad4273c2027"
      },
      "cell_type": "code",
      "source": "for i in range(len(train_sentences)):\n    if 'www.' in train_sentences[i] or 'http:' in train_sentences[i] or 'https:' in train_sentences[i] or '.com' in train_sentences[i]:\n        train_sentences[i] = re.sub(r\"([^ ]+(?<=\\.[a-z]{3}))\", \"<url>\", train_sentences[i])\n        \nfor i in range(len(test_sentences)):\n    if 'www.' in test_sentences[i] or 'http:' in test_sentences[i] or 'https:' in test_sentences[i] or '.com' in test_sentences[i]:\n        test_sentences[i] = re.sub(r\"([^ ]+(?<=\\.[a-z]{3}))\", \"<url>\", test_sentences[i])",
      "execution_count": null,
      "outputs": []
    },
    {
      "metadata": {
        "trusted": true,
        "_uuid": "eb9e5604639fcf728f3a3993c1761611b6621115"
      },
      "cell_type": "code",
      "source": "del train_file_lines, test_file_lines",
      "execution_count": null,
      "outputs": []
    },
    {
      "metadata": {
        "trusted": true,
        "_uuid": "d0dda4c5834049fb03f29fc9544ac676405d6d35"
      },
      "cell_type": "code",
      "source": "gc.collect()",
      "execution_count": null,
      "outputs": []
    },
    {
      "metadata": {
        "trusted": true,
        "_uuid": "c2d2ab8de1e216adc47eace44fc9f51217d616e7"
      },
      "cell_type": "code",
      "source": "max_features = 40000\nmaxlen = 100",
      "execution_count": null,
      "outputs": []
    },
    {
      "metadata": {
        "trusted": true,
        "_uuid": "15d4ff9404e3269aca2921542fc776e6d12087fa"
      },
      "cell_type": "code",
      "source": "tokenizer = text.Tokenizer(num_words=max_features)\ntokenizer.fit_on_texts(train_sentences)\ntokenized_train = tokenizer.texts_to_sequences(train_sentences)",
      "execution_count": null,
      "outputs": []
    },
    {
      "metadata": {
        "trusted": true,
        "_uuid": "4278b25d3f0e4c8bceb756a1320824c7ba884677"
      },
      "cell_type": "code",
      "source": "X_train = sequence.pad_sequences(tokenized_train, maxlen=maxlen)",
      "execution_count": null,
      "outputs": []
    },
    {
      "metadata": {
        "trusted": true,
        "_uuid": "8c69ddeeb6c013349a923e57773ff6fc010ced7d"
      },
      "cell_type": "code",
      "source": "X_train[0], X_train.shape",
      "execution_count": null,
      "outputs": []
    },
    {
      "metadata": {
        "trusted": true,
        "_uuid": "fcce229398e672cfb2bdd6644b80ac3c69e7aa76"
      },
      "cell_type": "code",
      "source": "tokenized_test = tokenizer.texts_to_sequences(test_sentences)\nX_test = sequence.pad_sequences(tokenized_test, maxlen=maxlen)",
      "execution_count": null,
      "outputs": []
    },
    {
      "metadata": {
        "trusted": true,
        "_uuid": "c477cde7509f6d1c4fc916e35c4fcb8a00c74296"
      },
      "cell_type": "code",
      "source": "from pickle import dump\nwith open('tokenizer.dat','wb') as fh:\n    dump(tokenizer, fh)",
      "execution_count": null,
      "outputs": []
    },
    {
      "metadata": {
        "trusted": true,
        "_uuid": "c765bee723b93d2f65862fe67e4da39f0c3a703c"
      },
      "cell_type": "code",
      "source": "del tokenized_test, tokenized_train, train_sentences, test_sentences\ngc.collect()",
      "execution_count": null,
      "outputs": []
    },
    {
      "metadata": {
        "trusted": true,
        "_uuid": "200cf5f6bc33dad4ca2a87fa8cdec4a313f79a09"
      },
      "cell_type": "code",
      "source": "batch_size= 2048\ngc.collect()",
      "execution_count": null,
      "outputs": []
    },
    {
      "metadata": {
        "trusted": true,
        "_uuid": "0e002beb545cabef50ba1c26c9862948845a3ce7"
      },
      "cell_type": "code",
      "source": "del tokenizer\ngc.collect()",
      "execution_count": null,
      "outputs": []
    },
    {
      "metadata": {
        "trusted": true,
        "_uuid": "c9cfa6a0bc78470904721266ccf0a8388c5f0532"
      },
      "cell_type": "code",
      "source": "embed_dim = 128\nX_inp = Input(shape=(maxlen,), dtype='int32')\nX = Embedding(max_features, embed_dim)(X_inp)\nX = Dropout(0.25)(X)\nX = Conv1D(2*embed_dim, kernel_size=3)(X)\nX = Conv1D(2*embed_dim, kernel_size = 3)(X)\nfor strides in [1, 1, 2]:\n    X = Conv1D(128*2**(strides), strides = strides, kernel_regularizer=l2(4e-6), bias_regularizer=l2(4e-6), kernel_size=3, kernel_constraint=maxnorm(10), bias_constraint=maxnorm(10))(X)\n    X_1 = CuDNNLSTM(512, kernel_regularizer=l2(4e-6), bias_regularizer=l2(4e-6), kernel_constraint=maxnorm(10), bias_constraint=maxnorm(10))(X)  \n    X_2 = CuDNNLSTM(512, kernel_regularizer=l2(4e-6), bias_regularizer=l2(4e-6), kernel_constraint=maxnorm(10), bias_constraint=maxnorm(10))(X)\nX = Concatenate()([X_1, X_2])\nX = Dropout(0.3)(X)\nX = Dense(64, activation='relu')(X)\nX = Dropout(0.1)(X)\nX = Dense(1, activation='sigmoid')(X)\nsentiment_model = Model(inputs=X_inp, outputs=X)\n",
      "execution_count": null,
      "outputs": []
    },
    {
      "metadata": {
        "trusted": true,
        "_uuid": "a9aaef9fba2ffb304d6444756b4df39ffa867283"
      },
      "cell_type": "code",
      "source": "sentiment_model.compile(optimizer='adam', loss='binary_crossentropy', metrics=['accuracy'])",
      "execution_count": null,
      "outputs": []
    },
    {
      "metadata": {
        "trusted": true,
        "_uuid": "52a9da4c74608020e9f31feedcda41a7cc88a3c1"
      },
      "cell_type": "code",
      "source": "sentiment_model.summary()",
      "execution_count": null,
      "outputs": []
    },
    {
      "metadata": {
        "trusted": true,
        "_uuid": "93c68c8e985f24fb152eb6a7f860f14deba89ad7"
      },
      "cell_type": "code",
      "source": "weight_path=\"weights.hdf5\"\ncheckpoint = ModelCheckpoint(weight_path, monitor='val_loss', verbose=1, save_best_only=True, mode='min')\nearly_stopping = EarlyStopping(monitor=\"val_loss\", mode=\"min\", patience=3)\ncallbacks = [checkpoint, early_stopping]",
      "execution_count": null,
      "outputs": []
    },
    {
      "metadata": {
        "trusted": true,
        "_uuid": "7e1e9695c20406e3240e9518f01c701982ced77f"
      },
      "cell_type": "code",
      "source": "sentiment_model.fit(X_train, train_labels, batch_size=batch_size, epochs=12, validation_split=0.15, shuffle=True, callbacks=callbacks)",
      "execution_count": null,
      "outputs": []
    },
    {
      "metadata": {
        "trusted": true,
        "_uuid": "c2d7f05788034f7e0676a06debefd088853e5d93"
      },
      "cell_type": "code",
      "source": "sentiment_model.load_weights(weight_path)\nscore, acc = sentiment_model.evaluate(X_test, test_labels, batch_size=batch_size)\nprint('Test score:', score)\nprint('Test accuracy:', acc)",
      "execution_count": null,
      "outputs": []
    }
  ],
  "metadata": {
    "kernelspec": {
      "display_name": "Python 3",
      "language": "python",
      "name": "python3"
    },
    "language_info": {
      "name": "python",
      "version": "3.6.6",
      "mimetype": "text/x-python",
      "codemirror_mode": {
        "name": "ipython",
        "version": 3
      },
      "pygments_lexer": "ipython3",
      "nbconvert_exporter": "python",
      "file_extension": ".py"
    }
  },
  "nbformat": 4,
  "nbformat_minor": 1
}